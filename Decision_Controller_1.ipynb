{
 "cells": [
  {
   "cell_type": "markdown",
   "metadata": {},
   "source": [
    "# Impact Data"
   ]
  },
  {
   "cell_type": "code",
   "execution_count": 1,
   "metadata": {},
   "outputs": [],
   "source": [
    "import pandas as pd\n",
    "import numpy as np"
   ]
  },
  {
   "cell_type": "code",
   "execution_count": null,
   "metadata": {},
   "outputs": [],
   "source": [
    "c = pd.read_csv(\"/home/syed/Documents/Master_Thesis/bitflow4j/target/out-8.csv\")\n",
    "c.tail(5)"
   ]
  },
  {
   "cell_type": "code",
   "execution_count": null,
   "metadata": {},
   "outputs": [],
   "source": [
    "c.head(5)"
   ]
  },
  {
   "cell_type": "markdown",
   "metadata": {},
   "source": [
    "- QoS ~ number of frames/sec = bytes/s / no of open streams\n",
    "- Qos Estimate of whole system = QoS / no of client nodes\n",
    "- Hint: Aggregate last 10 values of client.bin file before applying formula. Drop in value means change in system."
   ]
  },
  {
   "cell_type": "code",
   "execution_count": null,
   "metadata": {},
   "outputs": [],
   "source": [
    "c1 = c.tail(10)\n",
    "bytes_s = c1['bytes/s'].median()\n",
    "streams = c1['streams'][c1.index[-1]]\n",
    "qos = bytes_s/streams\n",
    "qos"
   ]
  },
  {
   "cell_type": "code",
   "execution_count": null,
   "metadata": {},
   "outputs": [],
   "source": [
    "c1 = c.tail()\n",
    "QoS = c['bytes/s']/c['streams']"
   ]
  },
  {
   "cell_type": "code",
   "execution_count": null,
   "metadata": {},
   "outputs": [],
   "source": [
    "# Remove data when stream equals zero.\n",
    "c = c[c['streams'] != 0]\n",
    "streams = np.array(list(c.groupby(['streams'])['bytes/s'].groups.keys()))\n",
    "print(streams)"
   ]
  },
  {
   "cell_type": "code",
   "execution_count": null,
   "metadata": {},
   "outputs": [],
   "source": [
    "mean = c.groupby(['streams'])['bytes/s'].mean()\n",
    "mean"
   ]
  },
  {
   "cell_type": "code",
   "execution_count": null,
   "metadata": {},
   "outputs": [],
   "source": [
    "std = c.groupby(['streams'])['bytes/s'].std()\n",
    "std"
   ]
  },
  {
   "cell_type": "markdown",
   "metadata": {},
   "source": [
    "# Visualizing Log files"
   ]
  },
  {
   "cell_type": "code",
   "execution_count": 3,
   "metadata": {},
   "outputs": [
    {
     "data": {
      "text/html": [
       "<div>\n",
       "<style scoped>\n",
       "    .dataframe tbody tr th:only-of-type {\n",
       "        vertical-align: middle;\n",
       "    }\n",
       "\n",
       "    .dataframe tbody tr th {\n",
       "        vertical-align: top;\n",
       "    }\n",
       "\n",
       "    .dataframe thead th {\n",
       "        text-align: right;\n",
       "    }\n",
       "</style>\n",
       "<table border=\"1\" class=\"dataframe\">\n",
       "  <thead>\n",
       "    <tr style=\"text-align: right;\">\n",
       "      <th></th>\n",
       "      <th>Action</th>\n",
       "      <th>action_time</th>\n",
       "      <th>service_restart_time</th>\n",
       "      <th>get_ip_time</th>\n",
       "      <th>total_time</th>\n",
       "      <th>status</th>\n",
       "      <th>QoS1</th>\n",
       "      <th>Qos2</th>\n",
       "      <th>Impact</th>\n",
       "      <th>tag</th>\n",
       "    </tr>\n",
       "  </thead>\n",
       "  <tbody>\n",
       "    <tr>\n",
       "      <th>12</th>\n",
       "      <td>soft_reboot</td>\n",
       "      <td>17</td>\n",
       "      <td>28</td>\n",
       "      <td>27.49784</td>\n",
       "      <td>75.13969</td>\n",
       "      <td>success</td>\n",
       "      <td>99764.171074</td>\n",
       "      <td>68100.492674</td>\n",
       "      <td>31663.6784</td>\n",
       "      <td>CPU_stress</td>\n",
       "    </tr>\n",
       "  </tbody>\n",
       "</table>\n",
       "</div>"
      ],
      "text/plain": [
       "         Action  action_time  service_restart_time  get_ip_time  total_time  \\\n",
       "12  soft_reboot           17                    28     27.49784    75.13969   \n",
       "\n",
       "     status          QoS1          Qos2      Impact         tag  \n",
       "12  success  99764.171074  68100.492674  31663.6784  CPU_stress  "
      ]
     },
     "execution_count": 3,
     "metadata": {},
     "output_type": "execute_result"
    }
   ],
   "source": [
    "# Anamoly: Stress CPU\n",
    "# Action: Soft Reboot\n",
    "# Time in seconds\n",
    "# action_time: Action time from trigger from EC to SS and changes in OS\n",
    "# service_restart_time: restart docker services: nginx server and injector using ansibl\n",
    "# get_ip_time: soft reboot is called with server name, this is where we get public/private ips from server name \n",
    "# total time: total time of this process\n",
    "# QoS1: calculated Quality of Service before running soft reboot\n",
    "# QoS2: calculated quality of service after running soft reboot\n",
    "# Impact: QoS - Qos2= A smaller Qos value means a positive impact\n",
    "\n",
    "df_softreboot = pd.read_csv(\"log_files/softreboot_cpustress.csv\")\n",
    "df_softreboot.tail(1)"
   ]
  },
  {
   "cell_type": "code",
   "execution_count": 4,
   "metadata": {},
   "outputs": [
    {
     "data": {
      "text/plain": [
       "action_time                 19.615385\n",
       "service_restart_time        28.615385\n",
       "get_ip_time                 34.678530\n",
       "total_time                  86.335632\n",
       "QoS1                    120783.533709\n",
       "Qos2                     64984.344064\n",
       "Impact                   55799.189645\n",
       "dtype: float64"
      ]
     },
     "execution_count": 4,
     "metadata": {},
     "output_type": "execute_result"
    }
   ],
   "source": [
    "# Aggregating log files for soft reboot\n",
    "softreboot_aggregate = df_softreboot.mean()\n",
    "softreboot_aggregate"
   ]
  },
  {
   "cell_type": "code",
   "execution_count": 5,
   "metadata": {},
   "outputs": [
    {
     "data": {
      "text/html": [
       "<div>\n",
       "<style scoped>\n",
       "    .dataframe tbody tr th:only-of-type {\n",
       "        vertical-align: middle;\n",
       "    }\n",
       "\n",
       "    .dataframe tbody tr th {\n",
       "        vertical-align: top;\n",
       "    }\n",
       "\n",
       "    .dataframe thead th {\n",
       "        text-align: right;\n",
       "    }\n",
       "</style>\n",
       "<table border=\"1\" class=\"dataframe\">\n",
       "  <thead>\n",
       "    <tr style=\"text-align: right;\">\n",
       "      <th></th>\n",
       "      <th>action</th>\n",
       "      <th>action_time</th>\n",
       "      <th>service_restart_time</th>\n",
       "      <th>get_ip_time</th>\n",
       "      <th>total_time</th>\n",
       "      <th>status</th>\n",
       "      <th>QoS1</th>\n",
       "      <th>QoS2</th>\n",
       "      <th>Impact</th>\n",
       "      <th>tag</th>\n",
       "    </tr>\n",
       "  </thead>\n",
       "  <tbody>\n",
       "    <tr>\n",
       "      <th>4</th>\n",
       "      <td>hard_reboot</td>\n",
       "      <td>17</td>\n",
       "      <td>28</td>\n",
       "      <td>27.970046</td>\n",
       "      <td>75.884004</td>\n",
       "      <td>success</td>\n",
       "      <td>104016.83954</td>\n",
       "      <td>105421.394957</td>\n",
       "      <td>-1404.555416</td>\n",
       "      <td>CPU_Stress</td>\n",
       "    </tr>\n",
       "  </tbody>\n",
       "</table>\n",
       "</div>"
      ],
      "text/plain": [
       "        action  action_time  service_restart_time  get_ip_time  total_time  \\\n",
       "4  hard_reboot           17                    28    27.970046   75.884004   \n",
       "\n",
       "    status          QoS1           QoS2       Impact         tag  \n",
       "4  success  104016.83954  105421.394957 -1404.555416  CPU_Stress  "
      ]
     },
     "execution_count": 5,
     "metadata": {},
     "output_type": "execute_result"
    }
   ],
   "source": [
    "df_hardreboot = pd.read_csv(\"log_files/hardreboot_cpustress.csv\")\n",
    "df_hardreboot.tail(1)"
   ]
  },
  {
   "cell_type": "code",
   "execution_count": 6,
   "metadata": {},
   "outputs": [
    {
     "data": {
      "text/plain": [
       "action_time                 16.800000\n",
       "service_restart_time        31.600000\n",
       "get_ip_time                 27.587051\n",
       "total_time                  79.066321\n",
       "QoS1                    101612.803272\n",
       "QoS2                     78667.392984\n",
       "Impact                   22945.410288\n",
       "dtype: float64"
      ]
     },
     "execution_count": 6,
     "metadata": {},
     "output_type": "execute_result"
    }
   ],
   "source": [
    "hardreboot_aggregate = df_hardreboot.mean()\n",
    "hardreboot_aggregate"
   ]
  },
  {
   "cell_type": "code",
   "execution_count": 7,
   "metadata": {},
   "outputs": [
    {
     "data": {
      "text/html": [
       "<div>\n",
       "<style scoped>\n",
       "    .dataframe tbody tr th:only-of-type {\n",
       "        vertical-align: middle;\n",
       "    }\n",
       "\n",
       "    .dataframe tbody tr th {\n",
       "        vertical-align: top;\n",
       "    }\n",
       "\n",
       "    .dataframe thead th {\n",
       "        text-align: right;\n",
       "    }\n",
       "</style>\n",
       "<table border=\"1\" class=\"dataframe\">\n",
       "  <thead>\n",
       "    <tr style=\"text-align: right;\">\n",
       "      <th></th>\n",
       "      <th>action</th>\n",
       "      <th>action_time</th>\n",
       "      <th>resize_confirm_time</th>\n",
       "      <th>total_time</th>\n",
       "      <th>ansible_playbook_run</th>\n",
       "      <th>QoS1</th>\n",
       "      <th>QoS2</th>\n",
       "      <th>impact</th>\n",
       "      <th>tag</th>\n",
       "    </tr>\n",
       "  </thead>\n",
       "  <tbody>\n",
       "    <tr>\n",
       "      <th>8</th>\n",
       "      <td>Server_resize</td>\n",
       "      <td>25</td>\n",
       "      <td>6</td>\n",
       "      <td>103.9659</td>\n",
       "      <td>32s</td>\n",
       "      <td>231697.419424</td>\n",
       "      <td>245128.144692</td>\n",
       "      <td>13430.725268</td>\n",
       "      <td>CPU_Stress</td>\n",
       "    </tr>\n",
       "  </tbody>\n",
       "</table>\n",
       "</div>"
      ],
      "text/plain": [
       "          action  action_time  resize_confirm_time  total_time  \\\n",
       "8  Server_resize           25                    6    103.9659   \n",
       "\n",
       "  ansible_playbook_run           QoS1           QoS2        impact         tag  \n",
       "8                  32s  231697.419424  245128.144692  13430.725268  CPU_Stress  "
      ]
     },
     "execution_count": 7,
     "metadata": {},
     "output_type": "execute_result"
    }
   ],
   "source": [
    "df_resize = pd.read_csv(\"log_files/resize_cpustress.csv\")\n",
    "df_resize.tail(1)"
   ]
  },
  {
   "cell_type": "code",
   "execution_count": 8,
   "metadata": {},
   "outputs": [
    {
     "data": {
      "text/plain": [
       "action_time                23.333333\n",
       "resize_confirm_time         5.888889\n",
       "total_time                105.695841\n",
       "QoS1                   232827.374853\n",
       "QoS2                   245529.123522\n",
       "impact                  15833.162217\n",
       "dtype: float64"
      ]
     },
     "execution_count": 8,
     "metadata": {},
     "output_type": "execute_result"
    }
   ],
   "source": [
    "resize_aggregate = df_resize.mean()\n",
    "resize_aggregate"
   ]
  },
  {
   "cell_type": "code",
   "execution_count": 9,
   "metadata": {},
   "outputs": [
    {
     "data": {
      "text/html": [
       "<div>\n",
       "<style scoped>\n",
       "    .dataframe tbody tr th:only-of-type {\n",
       "        vertical-align: middle;\n",
       "    }\n",
       "\n",
       "    .dataframe tbody tr th {\n",
       "        vertical-align: top;\n",
       "    }\n",
       "\n",
       "    .dataframe thead th {\n",
       "        text-align: right;\n",
       "    }\n",
       "</style>\n",
       "<table border=\"1\" class=\"dataframe\">\n",
       "  <thead>\n",
       "    <tr style=\"text-align: right;\">\n",
       "      <th></th>\n",
       "      <th>action</th>\n",
       "      <th>total_time</th>\n",
       "      <th>action_time</th>\n",
       "      <th>QoS1</th>\n",
       "      <th>QoS2</th>\n",
       "      <th>Impact</th>\n",
       "      <th>tag</th>\n",
       "    </tr>\n",
       "  </thead>\n",
       "  <tbody>\n",
       "    <tr>\n",
       "      <th>4</th>\n",
       "      <td>Restart_service</td>\n",
       "      <td>7.152557</td>\n",
       "      <td>7.152557</td>\n",
       "      <td>244244.131379</td>\n",
       "      <td>228431.607639</td>\n",
       "      <td>15812.523741</td>\n",
       "      <td>CPU_Stress</td>\n",
       "    </tr>\n",
       "  </tbody>\n",
       "</table>\n",
       "</div>"
      ],
      "text/plain": [
       "            action  total_time  action_time           QoS1           QoS2  \\\n",
       "4  Restart_service    7.152557     7.152557  244244.131379  228431.607639   \n",
       "\n",
       "         Impact         tag  \n",
       "4  15812.523741  CPU_Stress  "
      ]
     },
     "execution_count": 9,
     "metadata": {},
     "output_type": "execute_result"
    }
   ],
   "source": [
    "df_restartservice = pd.read_csv(\"log_files/restartservice_cpustress.csv\")\n",
    "df_restartservice.tail(1)"
   ]
  },
  {
   "cell_type": "code",
   "execution_count": 10,
   "metadata": {},
   "outputs": [
    {
     "data": {
      "text/plain": [
       "total_time          4.291534\n",
       "action_time         4.291534\n",
       "QoS1           240280.197620\n",
       "QoS2           235981.216708\n",
       "Impact           4298.980912\n",
       "dtype: float64"
      ]
     },
     "execution_count": 10,
     "metadata": {},
     "output_type": "execute_result"
    }
   ],
   "source": [
    "restartservice_aggregate = df_restartservice.mean()\n",
    "restartservice_aggregate"
   ]
  },
  {
   "cell_type": "code",
   "execution_count": 11,
   "metadata": {},
   "outputs": [
    {
     "data": {
      "text/html": [
       "<div>\n",
       "<style scoped>\n",
       "    .dataframe tbody tr th:only-of-type {\n",
       "        vertical-align: middle;\n",
       "    }\n",
       "\n",
       "    .dataframe tbody tr th {\n",
       "        vertical-align: top;\n",
       "    }\n",
       "\n",
       "    .dataframe thead th {\n",
       "        text-align: right;\n",
       "    }\n",
       "</style>\n",
       "<table border=\"1\" class=\"dataframe\">\n",
       "  <thead>\n",
       "    <tr style=\"text-align: right;\">\n",
       "      <th></th>\n",
       "      <th>action</th>\n",
       "      <th>total_time</th>\n",
       "      <th>action_create_new_vm</th>\n",
       "      <th>action_assign_floating_ip</th>\n",
       "      <th>action_ansible_run</th>\n",
       "      <th>get_ip</th>\n",
       "      <th>QoS1</th>\n",
       "      <th>QoS2</th>\n",
       "      <th>impact</th>\n",
       "      <th>tag</th>\n",
       "    </tr>\n",
       "  </thead>\n",
       "  <tbody>\n",
       "    <tr>\n",
       "      <th>4</th>\n",
       "      <td>Scale Up</td>\n",
       "      <td>177.007808</td>\n",
       "      <td>32</td>\n",
       "      <td>7</td>\n",
       "      <td>67</td>\n",
       "      <td>34.600375</td>\n",
       "      <td>269531.51612</td>\n",
       "      <td>269598.729591</td>\n",
       "      <td>-67.213471</td>\n",
       "      <td>CPU_Stress</td>\n",
       "    </tr>\n",
       "  </tbody>\n",
       "</table>\n",
       "</div>"
      ],
      "text/plain": [
       "     action  total_time  action_create_new_vm  action_assign_floating_ip  \\\n",
       "4  Scale Up  177.007808                    32                          7   \n",
       "\n",
       "   action_ansible_run     get_ip          QoS1           QoS2     impact  \\\n",
       "4                  67  34.600375  269531.51612  269598.729591 -67.213471   \n",
       "\n",
       "          tag  \n",
       "4  CPU_Stress  "
      ]
     },
     "execution_count": 11,
     "metadata": {},
     "output_type": "execute_result"
    }
   ],
   "source": [
    "df_scaleUp = pd.read_csv(\"log_files/scaleup_cpustress.csv\")\n",
    "df_scaleUp.tail(1)"
   ]
  },
  {
   "cell_type": "code",
   "execution_count": 12,
   "metadata": {},
   "outputs": [
    {
     "data": {
      "text/plain": [
       "total_time                      181.262550\n",
       "action_create_new_vm             29.200000\n",
       "action_assign_floating_ip         8.800000\n",
       "action_ansible_run               58.600000\n",
       "get_ip                           34.034492\n",
       "QoS1                         223337.836279\n",
       "QoS2                         211484.634594\n",
       "impact                        11853.201685\n",
       "dtype: float64"
      ]
     },
     "execution_count": 12,
     "metadata": {},
     "output_type": "execute_result"
    }
   ],
   "source": [
    "scaleUp_aggregate = df_scaleUp.mean()\n",
    "scaleUp_aggregate"
   ]
  },
  {
   "cell_type": "code",
   "execution_count": 13,
   "metadata": {},
   "outputs": [
    {
     "data": {
      "text/html": [
       "<div>\n",
       "<style scoped>\n",
       "    .dataframe tbody tr th:only-of-type {\n",
       "        vertical-align: middle;\n",
       "    }\n",
       "\n",
       "    .dataframe tbody tr th {\n",
       "        vertical-align: top;\n",
       "    }\n",
       "\n",
       "    .dataframe thead th {\n",
       "        text-align: right;\n",
       "    }\n",
       "</style>\n",
       "<table border=\"1\" class=\"dataframe\">\n",
       "  <thead>\n",
       "    <tr style=\"text-align: right;\">\n",
       "      <th></th>\n",
       "      <th>action</th>\n",
       "      <th>total_time</th>\n",
       "      <th>action_create_vm_snapshot</th>\n",
       "      <th>action_create_new_vm</th>\n",
       "      <th>assign_floating_ip</th>\n",
       "      <th>action_run_ansible</th>\n",
       "      <th>QoS1</th>\n",
       "      <th>QoS2</th>\n",
       "      <th>Impact</th>\n",
       "      <th>tag</th>\n",
       "    </tr>\n",
       "  </thead>\n",
       "  <tbody>\n",
       "    <tr>\n",
       "      <th>4</th>\n",
       "      <td>Migrate</td>\n",
       "      <td>311.925287</td>\n",
       "      <td>125</td>\n",
       "      <td>40</td>\n",
       "      <td>11</td>\n",
       "      <td>11</td>\n",
       "      <td>200310.360319</td>\n",
       "      <td>264678.901869</td>\n",
       "      <td>-64368.541551</td>\n",
       "      <td>CPU_Stress</td>\n",
       "    </tr>\n",
       "  </tbody>\n",
       "</table>\n",
       "</div>"
      ],
      "text/plain": [
       "    action  total_time  action_create_vm_snapshot  action_create_new_vm  \\\n",
       "4  Migrate  311.925287                        125                    40   \n",
       "\n",
       "   assign_floating_ip  action_run_ansible           QoS1           QoS2  \\\n",
       "4                  11                  11  200310.360319  264678.901869   \n",
       "\n",
       "         Impact         tag  \n",
       "4 -64368.541551  CPU_Stress  "
      ]
     },
     "execution_count": 13,
     "metadata": {},
     "output_type": "execute_result"
    }
   ],
   "source": [
    "df_migrate = pd.read_csv(\"log_files/migrate_cpustress.csv\")\n",
    "df_migrate.tail(1)"
   ]
  },
  {
   "cell_type": "code",
   "execution_count": 14,
   "metadata": {},
   "outputs": [
    {
     "data": {
      "text/plain": [
       "total_time                      311.925287\n",
       "action_create_vm_snapshot       125.000000\n",
       "action_create_new_vm             40.000000\n",
       "assign_floating_ip               11.000000\n",
       "action_run_ansible               11.000000\n",
       "QoS1                         200310.360319\n",
       "QoS2                         264678.901869\n",
       "Impact                       -64368.541551\n",
       "dtype: float64"
      ]
     },
     "execution_count": 14,
     "metadata": {},
     "output_type": "execute_result"
    }
   ],
   "source": [
    "migrate_aggregate = df_migrate.mean()\n",
    "migrate_aggregate"
   ]
  },
  {
   "cell_type": "markdown",
   "metadata": {},
   "source": [
    "### Adding impact percentage to each dataframe"
   ]
  },
  {
   "cell_type": "code",
   "execution_count": 15,
   "metadata": {},
   "outputs": [
    {
     "data": {
      "text/plain": [
       "17.597225620683755"
      ]
     },
     "execution_count": 15,
     "metadata": {},
     "output_type": "execute_result"
    }
   ],
   "source": [
    "(1 - 88186.996485/107019.450679) * 100"
   ]
  },
  {
   "cell_type": "code",
   "execution_count": 16,
   "metadata": {},
   "outputs": [
    {
     "name": "stdout",
     "output_type": "stream",
     "text": [
      "sr:  8.793279976925184\n",
      "hr:  13.284447096202967\n",
      "res:  5.796665885070307\n",
      "srest:  -0.865045016937871\n",
      "mig:  -32.13440455518462\n",
      "sup:  -0.40512891591497624\n"
     ]
    }
   ],
   "source": [
    "# calculate impact as % for each dataframe add a new column\n",
    "# >1 : positive impact\n",
    "# 0 means no impact\n",
    "# <1 : negative impact\n",
    "\n",
    "impact_percentage_migrate = []\n",
    "for index, row in df_migrate.iterrows():\n",
    "    val = (1 - row['QoS2']/row['QoS1'] ) * 100\n",
    "    impact_percentage_migrate.append(val)\n",
    "    \n",
    "df_migrate['impact_percentage'] = impact_percentage_migrate\n",
    "\n",
    "impact_percentage_scaleUp = []\n",
    "for index, row in df_scaleUp.iterrows():\n",
    "    val = (1 - row['QoS2']/row['QoS1'] ) * 100\n",
    "    impact_percentage_scaleUp.append(val)\n",
    "    \n",
    "df_scaleUp['impact_percentage'] = impact_percentage_scaleUp\n",
    "\n",
    "impact_percentage_softreboot = []\n",
    "for index, row in df_softreboot.iterrows():\n",
    "    if row['Qos2']:\n",
    "        val =(1 - row['Qos2']/row['QoS1'] ) * 100\n",
    "    else: \n",
    "        pass\n",
    "    impact_percentage_softreboot.append(val)\n",
    "    \n",
    "df_softreboot['impact_percentage'] = impact_percentage_softreboot\n",
    "\n",
    "impact_percentage_hardreboot = []\n",
    "for index, row in df_hardreboot.iterrows():\n",
    "    if row['QoS2']:\n",
    "        val =(1 - row['QoS2']/row['QoS1'] ) * 100\n",
    "    else: \n",
    "        pass\n",
    "    impact_percentage_hardreboot.append(val)\n",
    "    \n",
    "df_hardreboot['impact_percentage'] = impact_percentage_hardreboot\n",
    "\n",
    "impact_percentage_resize = []\n",
    "for index, row in df_resize.iterrows():\n",
    "    if row['QoS2']:\n",
    "        val = ((1 - row['QoS2']/row['QoS1'] ) * 100) * -1\n",
    "    else: \n",
    "        pass\n",
    "    impact_percentage_resize.append(val)\n",
    "    \n",
    "df_resize['impact_percentage'] = impact_percentage_resize\n",
    "\n",
    "impact_percentage_restartservice = []\n",
    "for index, row in df_restartservice.iterrows():\n",
    "    if row['QoS2']:\n",
    "        val = ((1 - row['QoS2']/row['QoS1'] ) * 100) * -1\n",
    "    else: \n",
    "        pass\n",
    "    impact_percentage_restartservice.append(val)\n",
    "    \n",
    "df_restartservice['impact_percentage'] = impact_percentage_restartservice\n",
    "\n",
    "df_softreboot = df_softreboot[df_softreboot['impact_percentage'] != 0]\n",
    "\n",
    "print('sr:  ' + str(df_softreboot['impact_percentage'].median()))\n",
    "print('hr:  ' + str(df_hardreboot['impact_percentage'].median()))\n",
    "print('res:  ' + str(df_resize['impact_percentage'].median()))\n",
    "print('srest:  ' + str(df_restartservice['impact_percentage'].median()))\n",
    "print('mig:  ' + str(df_migrate['impact_percentage'].median()))\n",
    "print('sup:  ' + str(df_scaleUp['impact_percentage'].median()))"
   ]
  },
  {
   "cell_type": "markdown",
   "metadata": {},
   "source": [
    "# Weighted Sum Model"
   ]
  },
  {
   "cell_type": "code",
   "execution_count": 17,
   "metadata": {},
   "outputs": [],
   "source": [
    "#First look at weighted sum model"
   ]
  },
  {
   "cell_type": "markdown",
   "metadata": {},
   "source": [
    "#### Weighted sum model"
   ]
  },
  {
   "cell_type": "code",
   "execution_count": 18,
   "metadata": {},
   "outputs": [
    {
     "name": "stdout",
     "output_type": "stream",
     "text": [
      "[82.03684260845185, 79.06632132530213, 105.69584070311652, 311.92528724670416, 181.26254997253417, 4.291534423828125]\n",
      "[8.793279976925184, 13.284447096202967, 5.796665885070307, -32.13440455518462, -0.40512891591497624, -0.865045016937871]\n"
     ]
    },
    {
     "data": {
      "text/html": [
       "<div>\n",
       "<style scoped>\n",
       "    .dataframe tbody tr th:only-of-type {\n",
       "        vertical-align: middle;\n",
       "    }\n",
       "\n",
       "    .dataframe tbody tr th {\n",
       "        vertical-align: top;\n",
       "    }\n",
       "\n",
       "    .dataframe thead th {\n",
       "        text-align: right;\n",
       "    }\n",
       "</style>\n",
       "<table border=\"1\" class=\"dataframe\">\n",
       "  <thead>\n",
       "    <tr style=\"text-align: right;\">\n",
       "      <th></th>\n",
       "      <th>MTTR</th>\n",
       "      <th>Impact</th>\n",
       "    </tr>\n",
       "    <tr>\n",
       "      <th>Alternatives</th>\n",
       "      <th></th>\n",
       "      <th></th>\n",
       "    </tr>\n",
       "  </thead>\n",
       "  <tbody>\n",
       "    <tr>\n",
       "      <th>soft_reboot</th>\n",
       "      <td>82.036843</td>\n",
       "      <td>8.793280</td>\n",
       "    </tr>\n",
       "    <tr>\n",
       "      <th>hard_reboot</th>\n",
       "      <td>79.066321</td>\n",
       "      <td>13.284447</td>\n",
       "    </tr>\n",
       "    <tr>\n",
       "      <th>resize</th>\n",
       "      <td>105.695841</td>\n",
       "      <td>5.796666</td>\n",
       "    </tr>\n",
       "    <tr>\n",
       "      <th>migrate</th>\n",
       "      <td>311.925287</td>\n",
       "      <td>-32.134405</td>\n",
       "    </tr>\n",
       "    <tr>\n",
       "      <th>scaleUp</th>\n",
       "      <td>181.262550</td>\n",
       "      <td>-0.405129</td>\n",
       "    </tr>\n",
       "    <tr>\n",
       "      <th>restart_service</th>\n",
       "      <td>4.291534</td>\n",
       "      <td>-0.865045</td>\n",
       "    </tr>\n",
       "  </tbody>\n",
       "</table>\n",
       "</div>"
      ],
      "text/plain": [
       "                       MTTR     Impact\n",
       "Alternatives                          \n",
       "soft_reboot       82.036843   8.793280\n",
       "hard_reboot       79.066321  13.284447\n",
       "resize           105.695841   5.796666\n",
       "migrate          311.925287 -32.134405\n",
       "scaleUp          181.262550  -0.405129\n",
       "restart_service    4.291534  -0.865045"
      ]
     },
     "execution_count": 18,
     "metadata": {},
     "output_type": "execute_result"
    }
   ],
   "source": [
    "dataframe = [df_softreboot,df_hardreboot,df_resize,df_migrate,df_scaleUp,df_restartservice]\n",
    "df_index = [\"soft_reboot\",\"hard_reboot\",\"resize\",\"migrate\",\"scaleUp\",\"restart_service\"]\n",
    "\n",
    "# Mean time to recover (MTTR) =total_time\n",
    "MTTR = []\n",
    "for df in dataframe:\n",
    "    MTTR.append(df['total_time'].mean())\n",
    "print(MTTR)\n",
    "\n",
    "Impact = []\n",
    "for df in dataframe:\n",
    "    Impact.append(df['impact_percentage'].median())\n",
    "print(Impact)\n",
    "\n",
    "\n",
    "#list_for_df = [df_index,MTTR,Impact]\n",
    "#df = pd.DataFrame(list_for_df)\n",
    "df = pd.DataFrame()\n",
    "df[0] = df_index\n",
    "df[1] = MTTR\n",
    "df[2] = Impact\n",
    "df.columns = ['Alternatives', 'MTTR','Impact']\n",
    "model = df\n",
    "df.set_index('Alternatives',inplace=True)\n",
    "df\n",
    "\n",
    "#df = df.pivot_table('Value', ['LOCATION'], 'TIME')\n",
    "\n",
    "    "
   ]
  },
  {
   "cell_type": "code",
   "execution_count": 19,
   "metadata": {},
   "outputs": [
    {
     "name": "stdout",
     "output_type": "stream",
     "text": [
      "-45.704793574301036 -42.12601395670009 -61.09883806784178 -200.00893417009632 -108.91958154988649 -2.9209386610720234\n"
     ]
    }
   ],
   "source": [
    "# since the formula dictates a positive value for calculation we multiply all values of MTTR to -1 to get the correct result\n",
    "model['MTTR'] = model['MTTR'].apply(lambda x: x*-1)\n",
    "\n",
    "# Adding weight\n",
    "MTTR_weight= 0.6\n",
    "Impact_weight= 0.4\n",
    "#model = model.reset_index()\n",
    "\n",
    "\n",
    "# Calculating Weighted sum model scores for each alternative\n",
    "A1 = (model['MTTR'][0] * MTTR_weight) + (model['Impact'][0] * Impact_weight) \n",
    "A2 = (model['MTTR'][1] * MTTR_weight) + (model['Impact'][1] * Impact_weight)\n",
    "A3 = (model['MTTR'][2] * MTTR_weight) + (model['Impact'][2] * Impact_weight)\n",
    "A4 = (model['MTTR'][3] * MTTR_weight) + (model['Impact'][3] * Impact_weight)\n",
    "A5 = (model['MTTR'][4] * MTTR_weight) + (model['Impact'][4] * Impact_weight)\n",
    "A6 = (model['MTTR'][5] * MTTR_weight) + (model['Impact'][5] * Impact_weight)\n",
    "\n",
    "print(A1,A2,A3,A4,A5,A6)"
   ]
  },
  {
   "cell_type": "markdown",
   "metadata": {},
   "source": [
    "### Problem here is that we are comparing apples with oranges"
   ]
  },
  {
   "cell_type": "code",
   "execution_count": 20,
   "metadata": {},
   "outputs": [
    {
     "data": {
      "text/html": [
       "<div>\n",
       "<style scoped>\n",
       "    .dataframe tbody tr th:only-of-type {\n",
       "        vertical-align: middle;\n",
       "    }\n",
       "\n",
       "    .dataframe tbody tr th {\n",
       "        vertical-align: top;\n",
       "    }\n",
       "\n",
       "    .dataframe thead th {\n",
       "        text-align: right;\n",
       "    }\n",
       "</style>\n",
       "<table border=\"1\" class=\"dataframe\">\n",
       "  <thead>\n",
       "    <tr style=\"text-align: right;\">\n",
       "      <th></th>\n",
       "      <th>MTTR</th>\n",
       "      <th>Impact</th>\n",
       "    </tr>\n",
       "    <tr>\n",
       "      <th>Alternatives</th>\n",
       "      <th></th>\n",
       "      <th></th>\n",
       "    </tr>\n",
       "  </thead>\n",
       "  <tbody>\n",
       "    <tr>\n",
       "      <th>soft_reboot</th>\n",
       "      <td>2011.596984</td>\n",
       "      <td>90.111667</td>\n",
       "    </tr>\n",
       "    <tr>\n",
       "      <th>hard_reboot</th>\n",
       "      <td>1942.378821</td>\n",
       "      <td>100.000000</td>\n",
       "    </tr>\n",
       "    <tr>\n",
       "      <th>resize</th>\n",
       "      <td>2562.891597</td>\n",
       "      <td>83.513935</td>\n",
       "    </tr>\n",
       "    <tr>\n",
       "      <th>migrate</th>\n",
       "      <td>7368.386000</td>\n",
       "      <td>0.000000</td>\n",
       "    </tr>\n",
       "    <tr>\n",
       "      <th>scaleUp</th>\n",
       "      <td>4323.723547</td>\n",
       "      <td>69.859264</td>\n",
       "    </tr>\n",
       "    <tr>\n",
       "      <th>restart_service</th>\n",
       "      <td>200.000000</td>\n",
       "      <td>68.846654</td>\n",
       "    </tr>\n",
       "  </tbody>\n",
       "</table>\n",
       "</div>"
      ],
      "text/plain": [
       "                        MTTR      Impact\n",
       "Alternatives                            \n",
       "soft_reboot      2011.596984   90.111667\n",
       "hard_reboot      1942.378821  100.000000\n",
       "resize           2562.891597   83.513935\n",
       "migrate          7368.386000    0.000000\n",
       "scaleUp          4323.723547   69.859264\n",
       "restart_service   200.000000   68.846654"
      ]
     },
     "execution_count": 20,
     "metadata": {},
     "output_type": "execute_result"
    }
   ],
   "source": [
    "#Proposed solution: Separate weigted sum models for MTTR, Impact, Success probability,number of actions, main action time\n",
    "# 1, Based on MTTR: Taking two nginx servers here\n",
    "\n",
    "#Normalization \n",
    "# Max and Min values for MTTR\n",
    "# Max and Min for impact\n",
    "# Normalize and return each to range 0-`99\n",
    "# Save the volations for future: important. Thresholds\n",
    "#MTTR_min= model['MTTR'].min()\n",
    "MTTR_min = 0\n",
    "MTTR_max= model['MTTR'].max()\n",
    "#diff_MTTR = (MTTR_max-MTTR_min)/100\n",
    "scaled_MTTR = []\n",
    "for val in MTTR:\n",
    "    # since you know we need high vals\n",
    "    scaled_val = (1 - (val/MTTR_max)) * 100\n",
    "    scaled_MTTR.append(scaled_val)\n",
    "\n",
    "Impact_min= model['Impact'].min()\n",
    "Impact_max= model['Impact'].max()\n",
    "\n",
    "OldRange = (Impact_max - Impact_min)  \n",
    "NewRange = (100 - 0)  \n",
    "\n",
    "scaled_Impact = []\n",
    "for res in Impact:\n",
    "    NewValue = (((res - Impact_min) * NewRange) / OldRange) + 0\n",
    "    scaled_Impact.append(NewValue)\n",
    "    \n",
    "#print(scaled_Impact)\n",
    "#print(MTTR)\n",
    "\n",
    "#now happily apply the NWSM\n",
    "n_model = pd.DataFrame()\n",
    "n_model[0] = df_index\n",
    "n_model[1] = scaled_MTTR\n",
    "n_model[2] = scaled_Impact\n",
    "n_model.columns = ['Alternatives', 'MTTR','Impact']\n",
    "n_model.set_index('Alternatives',inplace=True)\n",
    "n_model\n",
    "\n"
   ]
  },
  {
   "cell_type": "code",
   "execution_count": 21,
   "metadata": {},
   "outputs": [
    {
     "data": {
      "text/html": [
       "<div>\n",
       "<style scoped>\n",
       "    .dataframe tbody tr th:only-of-type {\n",
       "        vertical-align: middle;\n",
       "    }\n",
       "\n",
       "    .dataframe tbody tr th {\n",
       "        vertical-align: top;\n",
       "    }\n",
       "\n",
       "    .dataframe thead th {\n",
       "        text-align: right;\n",
       "    }\n",
       "</style>\n",
       "<table border=\"1\" class=\"dataframe\">\n",
       "  <thead>\n",
       "    <tr style=\"text-align: right;\">\n",
       "      <th></th>\n",
       "      <th>MTTR</th>\n",
       "      <th>Impact</th>\n",
       "    </tr>\n",
       "    <tr>\n",
       "      <th>Alternatives</th>\n",
       "      <th></th>\n",
       "      <th></th>\n",
       "    </tr>\n",
       "  </thead>\n",
       "  <tbody>\n",
       "    <tr>\n",
       "      <th>soft_reboot</th>\n",
       "      <td>1206.958190</td>\n",
       "      <td>482.783276</td>\n",
       "    </tr>\n",
       "    <tr>\n",
       "      <th>hard_reboot</th>\n",
       "      <td>1165.427293</td>\n",
       "      <td>466.170917</td>\n",
       "    </tr>\n",
       "    <tr>\n",
       "      <th>resize</th>\n",
       "      <td>1537.734958</td>\n",
       "      <td>615.093983</td>\n",
       "    </tr>\n",
       "    <tr>\n",
       "      <th>migrate</th>\n",
       "      <td>4421.031600</td>\n",
       "      <td>1768.412640</td>\n",
       "    </tr>\n",
       "    <tr>\n",
       "      <th>scaleUp</th>\n",
       "      <td>2594.234128</td>\n",
       "      <td>1037.693651</td>\n",
       "    </tr>\n",
       "    <tr>\n",
       "      <th>restart_service</th>\n",
       "      <td>120.000000</td>\n",
       "      <td>48.000000</td>\n",
       "    </tr>\n",
       "  </tbody>\n",
       "</table>\n",
       "</div>"
      ],
      "text/plain": [
       "                        MTTR       Impact\n",
       "Alternatives                             \n",
       "soft_reboot      1206.958190   482.783276\n",
       "hard_reboot      1165.427293   466.170917\n",
       "resize           1537.734958   615.093983\n",
       "migrate          4421.031600  1768.412640\n",
       "scaleUp          2594.234128  1037.693651\n",
       "restart_service   120.000000    48.000000"
      ]
     },
     "execution_count": 21,
     "metadata": {},
     "output_type": "execute_result"
    }
   ],
   "source": [
    "MTTR_weight= 0.6\n",
    "Impact_weight= 0.4\n",
    "\n",
    "n_model['MTTR'] = n_model['MTTR']*0.6\n",
    "n_model['Impact'] = n_model['MTTR']*0.4\n",
    "\n",
    "n_model"
   ]
  },
  {
   "cell_type": "code",
   "execution_count": 22,
   "metadata": {},
   "outputs": [
    {
     "data": {
      "text/html": [
       "<div>\n",
       "<style scoped>\n",
       "    .dataframe tbody tr th:only-of-type {\n",
       "        vertical-align: middle;\n",
       "    }\n",
       "\n",
       "    .dataframe tbody tr th {\n",
       "        vertical-align: top;\n",
       "    }\n",
       "\n",
       "    .dataframe thead th {\n",
       "        text-align: right;\n",
       "    }\n",
       "</style>\n",
       "<table border=\"1\" class=\"dataframe\">\n",
       "  <thead>\n",
       "    <tr style=\"text-align: right;\">\n",
       "      <th></th>\n",
       "      <th>MTTR</th>\n",
       "      <th>Impact</th>\n",
       "      <th>Awsm-Score</th>\n",
       "    </tr>\n",
       "    <tr>\n",
       "      <th>Alternatives</th>\n",
       "      <th></th>\n",
       "      <th></th>\n",
       "      <th></th>\n",
       "    </tr>\n",
       "  </thead>\n",
       "  <tbody>\n",
       "    <tr>\n",
       "      <th>soft_reboot</th>\n",
       "      <td>1206.958190</td>\n",
       "      <td>482.783276</td>\n",
       "      <td>917.288225</td>\n",
       "    </tr>\n",
       "    <tr>\n",
       "      <th>hard_reboot</th>\n",
       "      <td>1165.427293</td>\n",
       "      <td>466.170917</td>\n",
       "      <td>885.724742</td>\n",
       "    </tr>\n",
       "    <tr>\n",
       "      <th>resize</th>\n",
       "      <td>1537.734958</td>\n",
       "      <td>615.093983</td>\n",
       "      <td>1168.678568</td>\n",
       "    </tr>\n",
       "    <tr>\n",
       "      <th>migrate</th>\n",
       "      <td>4421.031600</td>\n",
       "      <td>1768.412640</td>\n",
       "      <td>3359.984016</td>\n",
       "    </tr>\n",
       "    <tr>\n",
       "      <th>scaleUp</th>\n",
       "      <td>2594.234128</td>\n",
       "      <td>1037.693651</td>\n",
       "      <td>1971.617937</td>\n",
       "    </tr>\n",
       "    <tr>\n",
       "      <th>restart_service</th>\n",
       "      <td>120.000000</td>\n",
       "      <td>48.000000</td>\n",
       "      <td>91.200000</td>\n",
       "    </tr>\n",
       "  </tbody>\n",
       "</table>\n",
       "</div>"
      ],
      "text/plain": [
       "                        MTTR       Impact   Awsm-Score\n",
       "Alternatives                                          \n",
       "soft_reboot      1206.958190   482.783276   917.288225\n",
       "hard_reboot      1165.427293   466.170917   885.724742\n",
       "resize           1537.734958   615.093983  1168.678568\n",
       "migrate          4421.031600  1768.412640  3359.984016\n",
       "scaleUp          2594.234128  1037.693651  1971.617937\n",
       "restart_service   120.000000    48.000000    91.200000"
      ]
     },
     "execution_count": 22,
     "metadata": {},
     "output_type": "execute_result"
    }
   ],
   "source": [
    "# Adding weight\n",
    "MTTR_weight= 0.6\n",
    "Impact_weight= 0.4\n",
    "#model = model.reset_index()\n",
    "\n",
    "\n",
    "# Calculating Weighted sum model scores for each alternative\n",
    "A1 = (n_model['MTTR'][0] * MTTR_weight) + (n_model['Impact'][0] * Impact_weight) \n",
    "A2 = (n_model['MTTR'][1] * MTTR_weight) + (n_model['Impact'][1] * Impact_weight)\n",
    "A3 = (n_model['MTTR'][2] * MTTR_weight) + (n_model['Impact'][2] * Impact_weight)\n",
    "A4 = (n_model['MTTR'][3] * MTTR_weight) + (n_model['Impact'][3] * Impact_weight)\n",
    "A5 = (n_model['MTTR'][4] * MTTR_weight) + (n_model['Impact'][4] * Impact_weight)\n",
    "A6 = (n_model['MTTR'][5] * MTTR_weight) + (n_model['Impact'][5] * Impact_weight)\n",
    "\n",
    "scores = [A1,A2,A3,A4,A5,A6]\n",
    "n_model['Awsm-Score'] = scores\n",
    "#print(A1,A2,A3,A4,A5,A6)\n",
    "#print(\"Winner is Hard Reboot with alternative sum:\" + str(A2))\n",
    "n_model\n"
   ]
  },
  {
   "cell_type": "code",
   "execution_count": 23,
   "metadata": {},
   "outputs": [
    {
     "name": "stdout",
     "output_type": "stream",
     "text": [
      "      Alternatives         MTTR      Impact  sucess_probability  \\\n",
      "0      soft_reboot  2011.596984   90.111667                  95   \n",
      "1      hard_reboot  1942.378821  100.000000                 100   \n",
      "2           resize  2562.891597   83.513935                  85   \n",
      "3          migrate  7368.386000    0.000000                  90   \n",
      "4          scaleUp  4323.723547   69.859264                   0   \n",
      "5  restart_service   200.000000   68.846654                   0   \n",
      "\n",
      "   scaled_noofsteps  scaled_main_action_time  \n",
      "0              40.0                11.025296  \n",
      "1              40.0                10.362542  \n",
      "2              60.0                15.775032  \n",
      "3             100.0               100.000000  \n",
      "4              80.0                20.635227  \n",
      "5               0.0                 0.000000  \n"
     ]
    },
    {
     "data": {
      "text/html": [
       "<div>\n",
       "<style scoped>\n",
       "    .dataframe tbody tr th:only-of-type {\n",
       "        vertical-align: middle;\n",
       "    }\n",
       "\n",
       "    .dataframe tbody tr th {\n",
       "        vertical-align: top;\n",
       "    }\n",
       "\n",
       "    .dataframe thead th {\n",
       "        text-align: right;\n",
       "    }\n",
       "</style>\n",
       "<table border=\"1\" class=\"dataframe\">\n",
       "  <thead>\n",
       "    <tr style=\"text-align: right;\">\n",
       "      <th></th>\n",
       "      <th>MTTR</th>\n",
       "      <th>Impact</th>\n",
       "      <th>sucess_probability</th>\n",
       "      <th>scaled_noofsteps</th>\n",
       "      <th>scaled_main_action_time</th>\n",
       "      <th>Awsm-score</th>\n",
       "    </tr>\n",
       "    <tr>\n",
       "      <th>Alternatives</th>\n",
       "      <th></th>\n",
       "      <th></th>\n",
       "      <th></th>\n",
       "      <th></th>\n",
       "      <th></th>\n",
       "      <th></th>\n",
       "    </tr>\n",
       "  </thead>\n",
       "  <tbody>\n",
       "    <tr>\n",
       "      <th>soft_reboot</th>\n",
       "      <td>2011.596984</td>\n",
       "      <td>90.111667</td>\n",
       "      <td>95</td>\n",
       "      <td>40.0</td>\n",
       "      <td>11.025296</td>\n",
       "      <td>463.933093</td>\n",
       "    </tr>\n",
       "    <tr>\n",
       "      <th>hard_reboot</th>\n",
       "      <td>1942.378821</td>\n",
       "      <td>100.000000</td>\n",
       "      <td>100</td>\n",
       "      <td>40.0</td>\n",
       "      <td>10.362542</td>\n",
       "      <td>885.724742</td>\n",
       "    </tr>\n",
       "    <tr>\n",
       "      <th>resize</th>\n",
       "      <td>2562.891597</td>\n",
       "      <td>83.513935</td>\n",
       "      <td>85</td>\n",
       "      <td>60.0</td>\n",
       "      <td>15.775032</td>\n",
       "      <td>571.007216</td>\n",
       "    </tr>\n",
       "    <tr>\n",
       "      <th>migrate</th>\n",
       "      <td>7368.386000</td>\n",
       "      <td>0.000000</td>\n",
       "      <td>90</td>\n",
       "      <td>100.0</td>\n",
       "      <td>100.000000</td>\n",
       "      <td>1538.677200</td>\n",
       "    </tr>\n",
       "    <tr>\n",
       "      <th>scaleUp</th>\n",
       "      <td>4323.723547</td>\n",
       "      <td>69.859264</td>\n",
       "      <td>0</td>\n",
       "      <td>80.0</td>\n",
       "      <td>20.635227</td>\n",
       "      <td>881.794158</td>\n",
       "    </tr>\n",
       "    <tr>\n",
       "      <th>restart_service</th>\n",
       "      <td>200.000000</td>\n",
       "      <td>68.846654</td>\n",
       "      <td>0</td>\n",
       "      <td>0.0</td>\n",
       "      <td>0.000000</td>\n",
       "      <td>46.884665</td>\n",
       "    </tr>\n",
       "  </tbody>\n",
       "</table>\n",
       "</div>"
      ],
      "text/plain": [
       "                        MTTR      Impact  sucess_probability  \\\n",
       "Alternatives                                                   \n",
       "soft_reboot      2011.596984   90.111667                  95   \n",
       "hard_reboot      1942.378821  100.000000                 100   \n",
       "resize           2562.891597   83.513935                  85   \n",
       "migrate          7368.386000    0.000000                  90   \n",
       "scaleUp          4323.723547   69.859264                   0   \n",
       "restart_service   200.000000   68.846654                   0   \n",
       "\n",
       "                 scaled_noofsteps  scaled_main_action_time   Awsm-score  \n",
       "Alternatives                                                             \n",
       "soft_reboot                  40.0                11.025296   463.933093  \n",
       "hard_reboot                  40.0                10.362542   885.724742  \n",
       "resize                       60.0                15.775032   571.007216  \n",
       "migrate                     100.0               100.000000  1538.677200  \n",
       "scaleUp                      80.0                20.635227   881.794158  \n",
       "restart_service               0.0                 0.000000    46.884665  "
      ]
     },
     "execution_count": 23,
     "metadata": {},
     "output_type": "execute_result"
    }
   ],
   "source": [
    "# Adding sucess probability,action time, no of steps\n",
    "# Sucess probability not calculated here: but can explain the method\n",
    "\n",
    "#df_index = [\"soft_reboot\",\"hard_reboot\",\"resize\",\"migrate\",\"scaleUp\",\"restart_service\"]\n",
    "sucess_probability=[95,100,85,90,0,0]\n",
    "no_of_steps=[3,3,4,6,5,1]\n",
    "main_action_time=[]\n",
    "\n",
    "main_action_time.append(df_softreboot['action_time'].mean())\n",
    "main_action_time.append(df_hardreboot['action_time'].mean())\n",
    "main_action_time.append(df_resize['action_time'].mean()) \n",
    "main_action_time.append(df_migrate['action_create_vm_snapshot'].mean()) \n",
    "main_action_time.append(df_scaleUp['action_create_new_vm'].mean()) \n",
    "main_action_time.append(df_restartservice['total_time'].mean()) #same as action time\n",
    "\n",
    "#Normalize\n",
    "scaled_noofsteps = []\n",
    "for lol in no_of_steps:\n",
    "    NewValue = (((lol - min(no_of_steps)) * 100) / 5) + 0 # formula in last block\n",
    "    scaled_noofsteps.append(NewValue)\n",
    "\n",
    "scaled_main_action_time = []\n",
    "for rz in main_action_time:\n",
    "    NewValue = (((rz - min(main_action_time)) * 100) / 120.70846557617188) + 0 # formula in last block\n",
    "    scaled_main_action_time.append(NewValue)\n",
    "    \n",
    "#create new NWSM\n",
    "add_model = pd.DataFrame()\n",
    "add_model[0] = df_index\n",
    "add_model[1] = scaled_MTTR\n",
    "add_model[2] = scaled_Impact\n",
    "add_model[3] = sucess_probability\n",
    "add_model[4] = scaled_noofsteps\n",
    "add_model[5] = scaled_main_action_time\n",
    "add_model.columns = ['Alternatives', 'MTTR','Impact','sucess_probability','scaled_noofsteps','scaled_main_action_time']\n",
    "\n",
    "print(add_model)\n",
    "\n",
    "#new weights\n",
    "sucess_probability_weight = 0.5\n",
    "MTTR_weight= 0.2\n",
    "Impact_weight= 0.1\n",
    "scaled_noofsteps_weight=0.1\n",
    "scaled_main_action_time_weight=0.1\n",
    "\n",
    "#calculating with 5 criterias \n",
    "A1 = (add_model['MTTR'][0] * MTTR_weight) + (add_model['Impact'][0] * Impact_weight) + (add_model['sucess_probability'][0] * sucess_probability_weight) + (add_model['scaled_main_action_time'][0] * scaled_noofsteps_weight) + (add_model['scaled_noofsteps'][0] * scaled_main_action_time_weight) \n",
    "A3 = (add_model['MTTR'][2] * MTTR_weight) + (add_model['Impact'][2] * Impact_weight) + (add_model['sucess_probability'][2] * sucess_probability_weight) + (add_model['scaled_main_action_time'][2] * scaled_noofsteps_weight) + (add_model['scaled_noofsteps'][2] * scaled_main_action_time_weight) \n",
    "A4 = (add_model['MTTR'][3] * MTTR_weight) + (add_model['Impact'][3] * Impact_weight) + (add_model['sucess_probability'][3] * sucess_probability_weight) + (add_model['scaled_main_action_time'][3] * scaled_noofsteps_weight) + (add_model['scaled_noofsteps'][3] * scaled_main_action_time_weight) \n",
    "A5 = (add_model['MTTR'][4] * MTTR_weight) + (add_model['Impact'][4] * Impact_weight) + (add_model['sucess_probability'][4] * sucess_probability_weight) + (add_model['scaled_main_action_time'][4] * scaled_noofsteps_weight) + (add_model['scaled_noofsteps'][4] * scaled_main_action_time_weight) \n",
    "A6 = (add_model['MTTR'][5] * MTTR_weight) + (add_model['Impact'][5] * Impact_weight) + (add_model['sucess_probability'][5] * sucess_probability_weight) + (add_model['scaled_main_action_time'][5] * scaled_noofsteps_weight) + (add_model['scaled_noofsteps'][5] * scaled_main_action_time_weight) \n",
    "\n",
    "scores = [A1,A2,A3,A4,A5,A6]\n",
    "\n",
    "#print(A1,A2,A3,A4,A5,A6)\n",
    "#print(\"Winner is Hard Reboot with alternative sum:\" + str(A2))\n",
    "#max(main_action_time)-min(main_action_time)\n",
    "\n",
    "add_model['Awsm-score'] = scores\n",
    "add_model.set_index('Alternatives',inplace=True)\n",
    "add_model"
   ]
  },
  {
   "cell_type": "code",
   "execution_count": 24,
   "metadata": {},
   "outputs": [],
   "source": [
    "# how a new value changes things - how to make this continious / seamless"
   ]
  },
  {
   "cell_type": "markdown",
   "metadata": {},
   "source": [
    "#### Lets try some other stuff"
   ]
  },
  {
   "cell_type": "code",
   "execution_count": 284,
   "metadata": {},
   "outputs": [
    {
     "data": {
      "text/html": [
       "<div>\n",
       "<style scoped>\n",
       "    .dataframe tbody tr th:only-of-type {\n",
       "        vertical-align: middle;\n",
       "    }\n",
       "\n",
       "    .dataframe tbody tr th {\n",
       "        vertical-align: top;\n",
       "    }\n",
       "\n",
       "    .dataframe thead th {\n",
       "        text-align: right;\n",
       "    }\n",
       "</style>\n",
       "<table border=\"1\" class=\"dataframe\">\n",
       "  <thead>\n",
       "    <tr style=\"text-align: right;\">\n",
       "      <th></th>\n",
       "      <th>Alternatives</th>\n",
       "      <th>MTTR</th>\n",
       "      <th>Impact</th>\n",
       "      <th>sucess_probability</th>\n",
       "      <th>no_of_steps</th>\n",
       "      <th>main_action_time</th>\n",
       "    </tr>\n",
       "  </thead>\n",
       "  <tbody>\n",
       "    <tr>\n",
       "      <th>0</th>\n",
       "      <td>soft_reboot</td>\n",
       "      <td>82.036843</td>\n",
       "      <td>8.793280</td>\n",
       "      <td>95</td>\n",
       "      <td>3</td>\n",
       "      <td>17.600000</td>\n",
       "    </tr>\n",
       "    <tr>\n",
       "      <th>1</th>\n",
       "      <td>hard_reboot</td>\n",
       "      <td>79.066321</td>\n",
       "      <td>13.284447</td>\n",
       "      <td>100</td>\n",
       "      <td>3</td>\n",
       "      <td>16.800000</td>\n",
       "    </tr>\n",
       "    <tr>\n",
       "      <th>2</th>\n",
       "      <td>resize</td>\n",
       "      <td>105.695841</td>\n",
       "      <td>5.796666</td>\n",
       "      <td>85</td>\n",
       "      <td>4</td>\n",
       "      <td>23.333333</td>\n",
       "    </tr>\n",
       "    <tr>\n",
       "      <th>3</th>\n",
       "      <td>migrate</td>\n",
       "      <td>311.925287</td>\n",
       "      <td>-32.134405</td>\n",
       "      <td>90</td>\n",
       "      <td>6</td>\n",
       "      <td>125.000000</td>\n",
       "    </tr>\n",
       "    <tr>\n",
       "      <th>4</th>\n",
       "      <td>scaleUp</td>\n",
       "      <td>181.262550</td>\n",
       "      <td>-0.405129</td>\n",
       "      <td>0</td>\n",
       "      <td>5</td>\n",
       "      <td>29.200000</td>\n",
       "    </tr>\n",
       "    <tr>\n",
       "      <th>5</th>\n",
       "      <td>restart_service</td>\n",
       "      <td>4.172325</td>\n",
       "      <td>-94.329593</td>\n",
       "      <td>0</td>\n",
       "      <td>1</td>\n",
       "      <td>4.291534</td>\n",
       "    </tr>\n",
       "  </tbody>\n",
       "</table>\n",
       "</div>"
      ],
      "text/plain": [
       "      Alternatives        MTTR     Impact  sucess_probability  no_of_steps  \\\n",
       "0      soft_reboot   82.036843   8.793280                  95            3   \n",
       "1      hard_reboot   79.066321  13.284447                 100            3   \n",
       "2           resize  105.695841   5.796666                  85            4   \n",
       "3          migrate  311.925287 -32.134405                  90            6   \n",
       "4          scaleUp  181.262550  -0.405129                   0            5   \n",
       "5  restart_service    4.172325 -94.329593                   0            1   \n",
       "\n",
       "   main_action_time  \n",
       "0         17.600000  \n",
       "1         16.800000  \n",
       "2         23.333333  \n",
       "3        125.000000  \n",
       "4         29.200000  \n",
       "5          4.291534  "
      ]
     },
     "execution_count": 284,
     "metadata": {},
     "output_type": "execute_result"
    }
   ],
   "source": [
    "import math\n",
    "# Technique for Order of Preference by Similarity to Ideal Solution (TOPSIS) is a multi-criteria decision analysis \n",
    "# method\n",
    "# TOPSIS is based on the concept that the chosen alternative should have the shortest geometric\n",
    "# distance from the positive ideal solution (PIS)[4] and the longest geometric distance from the negative ideal \n",
    "# solution (NIS)\n",
    "\n",
    "#### ---- TOPSIS Application -----------####\n",
    "\n",
    "# Step 1: Create an evaluation matrix consisting of m alternatives and n criteria, with the intersection of each alternative and criteria given as {\\displaystyle x_{ij}} x_{ij}, we therefore have a matrix {\\displaystyle (x_{ij})_{m\\times n}} (x_{{ij}})_{{m\\times n}}\n",
    "\n",
    "topsis_model = pd.DataFrame()\n",
    "topsis_model[0] = df_index\n",
    "topsis_model[1] = MTTR\n",
    "topsis_model[2] = Impact\n",
    "topsis_model[3] = sucess_probability\n",
    "topsis_model[4] = no_of_steps\n",
    "topsis_model[5] = main_action_time\n",
    "topsis_model.columns = ['Alternatives', 'MTTR','Impact','sucess_probability','no_of_steps','main_action_time']\n",
    "\n",
    "#topsis_model\n",
    "\n",
    "# Step 2: Normalization function to normalize matrix x to r\n",
    "for index, row in df_migrate.iterrows():\n",
    "    val = (1 - row['QoS2']/row['QoS1'] ) * 100\n",
    "    impact_percentage_migrate.append(val)\n",
    "\n",
    "rij = xij / math.sqrt(sum(m)*(x^2kj))\n",
    "\n",
    "# Step 4: Add weights\n",
    "# Step 5: Determine the worst and best alternative\n",
    "# Step 6: Distance between target alternative and best and worst conditions\n",
    "# Step 7: Calculate similarty\n",
    "# Step 8: Rank the alternatives\n"
   ]
  }
 ],
 "metadata": {
  "kernelspec": {
   "display_name": "Python 3",
   "language": "python",
   "name": "python3"
  },
  "language_info": {
   "codemirror_mode": {
    "name": "ipython",
    "version": 3
   },
   "file_extension": ".py",
   "mimetype": "text/x-python",
   "name": "python",
   "nbconvert_exporter": "python",
   "pygments_lexer": "ipython3",
   "version": "3.6.7"
  }
 },
 "nbformat": 4,
 "nbformat_minor": 2
}
